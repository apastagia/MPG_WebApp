{
 "cells": [
  {
   "cell_type": "code",
   "execution_count": 1,
   "metadata": {},
   "outputs": [],
   "source": [
    "import pandas as pd\n",
    "import numpy as np\n",
    "from sklearn import pipeline, preprocessing, metrics, model_selection, ensemble\n",
    "from sklearn_pandas import DataFrameMapper\n",
    "from sklearn.impute import SimpleImputer"
   ]
  },
  {
   "cell_type": "code",
   "execution_count": 2,
   "metadata": {},
   "outputs": [
    {
     "data": {
      "text/html": [
       "<div>\n",
       "<style scoped>\n",
       "    .dataframe tbody tr th:only-of-type {\n",
       "        vertical-align: middle;\n",
       "    }\n",
       "\n",
       "    .dataframe tbody tr th {\n",
       "        vertical-align: top;\n",
       "    }\n",
       "\n",
       "    .dataframe thead th {\n",
       "        text-align: right;\n",
       "    }\n",
       "</style>\n",
       "<table border=\"1\" class=\"dataframe\">\n",
       "  <thead>\n",
       "    <tr style=\"text-align: right;\">\n",
       "      <th></th>\n",
       "      <th>mpg</th>\n",
       "      <th>cyl</th>\n",
       "      <th>disp</th>\n",
       "      <th>hp</th>\n",
       "      <th>wt</th>\n",
       "      <th>acc</th>\n",
       "      <th>yr</th>\n",
       "      <th>origin</th>\n",
       "      <th>car_type</th>\n",
       "      <th>car_name</th>\n",
       "    </tr>\n",
       "  </thead>\n",
       "  <tbody>\n",
       "    <tr>\n",
       "      <th>0</th>\n",
       "      <td>18.0</td>\n",
       "      <td>8</td>\n",
       "      <td>307.0</td>\n",
       "      <td>130</td>\n",
       "      <td>3504</td>\n",
       "      <td>12.0</td>\n",
       "      <td>70</td>\n",
       "      <td>1</td>\n",
       "      <td>0</td>\n",
       "      <td>chevrolet chevelle malibu</td>\n",
       "    </tr>\n",
       "    <tr>\n",
       "      <th>1</th>\n",
       "      <td>15.0</td>\n",
       "      <td>8</td>\n",
       "      <td>350.0</td>\n",
       "      <td>165</td>\n",
       "      <td>3693</td>\n",
       "      <td>11.5</td>\n",
       "      <td>70</td>\n",
       "      <td>1</td>\n",
       "      <td>0</td>\n",
       "      <td>buick skylark 320</td>\n",
       "    </tr>\n",
       "    <tr>\n",
       "      <th>2</th>\n",
       "      <td>18.0</td>\n",
       "      <td>8</td>\n",
       "      <td>318.0</td>\n",
       "      <td>150</td>\n",
       "      <td>3436</td>\n",
       "      <td>11.0</td>\n",
       "      <td>70</td>\n",
       "      <td>1</td>\n",
       "      <td>0</td>\n",
       "      <td>plymouth satellite</td>\n",
       "    </tr>\n",
       "    <tr>\n",
       "      <th>3</th>\n",
       "      <td>16.0</td>\n",
       "      <td>8</td>\n",
       "      <td>304.0</td>\n",
       "      <td>150</td>\n",
       "      <td>3433</td>\n",
       "      <td>12.0</td>\n",
       "      <td>70</td>\n",
       "      <td>1</td>\n",
       "      <td>0</td>\n",
       "      <td>amc rebel sst</td>\n",
       "    </tr>\n",
       "    <tr>\n",
       "      <th>4</th>\n",
       "      <td>17.0</td>\n",
       "      <td>8</td>\n",
       "      <td>302.0</td>\n",
       "      <td>140</td>\n",
       "      <td>3449</td>\n",
       "      <td>10.5</td>\n",
       "      <td>70</td>\n",
       "      <td>1</td>\n",
       "      <td>0</td>\n",
       "      <td>ford torino</td>\n",
       "    </tr>\n",
       "  </tbody>\n",
       "</table>\n",
       "</div>"
      ],
      "text/plain": [
       "    mpg  cyl   disp   hp    wt   acc  yr  origin  car_type  \\\n",
       "0  18.0    8  307.0  130  3504  12.0  70       1         0   \n",
       "1  15.0    8  350.0  165  3693  11.5  70       1         0   \n",
       "2  18.0    8  318.0  150  3436  11.0  70       1         0   \n",
       "3  16.0    8  304.0  150  3433  12.0  70       1         0   \n",
       "4  17.0    8  302.0  140  3449  10.5  70       1         0   \n",
       "\n",
       "                    car_name  \n",
       "0  chevrolet chevelle malibu  \n",
       "1          buick skylark 320  \n",
       "2         plymouth satellite  \n",
       "3              amc rebel sst  \n",
       "4                ford torino  "
      ]
     },
     "execution_count": 2,
     "metadata": {},
     "output_type": "execute_result"
    }
   ],
   "source": [
    "data = pd.read_csv('car-mpg.csv')\n",
    "data.head()"
   ]
  },
  {
   "cell_type": "code",
   "execution_count": 3,
   "metadata": {},
   "outputs": [
    {
     "data": {
      "text/html": [
       "<div>\n",
       "<style scoped>\n",
       "    .dataframe tbody tr th:only-of-type {\n",
       "        vertical-align: middle;\n",
       "    }\n",
       "\n",
       "    .dataframe tbody tr th {\n",
       "        vertical-align: top;\n",
       "    }\n",
       "\n",
       "    .dataframe thead th {\n",
       "        text-align: right;\n",
       "    }\n",
       "</style>\n",
       "<table border=\"1\" class=\"dataframe\">\n",
       "  <thead>\n",
       "    <tr style=\"text-align: right;\">\n",
       "      <th></th>\n",
       "      <th>mpg</th>\n",
       "      <th>cyl</th>\n",
       "      <th>disp</th>\n",
       "      <th>hp</th>\n",
       "      <th>wt</th>\n",
       "      <th>acc</th>\n",
       "      <th>yr</th>\n",
       "      <th>origin</th>\n",
       "      <th>car_type</th>\n",
       "      <th>car_name</th>\n",
       "    </tr>\n",
       "  </thead>\n",
       "  <tbody>\n",
       "    <tr>\n",
       "      <th>393</th>\n",
       "      <td>27.0</td>\n",
       "      <td>4</td>\n",
       "      <td>140.0</td>\n",
       "      <td>86</td>\n",
       "      <td>2790</td>\n",
       "      <td>15.6</td>\n",
       "      <td>82</td>\n",
       "      <td>1</td>\n",
       "      <td>1</td>\n",
       "      <td>ford mustang gl</td>\n",
       "    </tr>\n",
       "    <tr>\n",
       "      <th>394</th>\n",
       "      <td>44.0</td>\n",
       "      <td>4</td>\n",
       "      <td>97.0</td>\n",
       "      <td>52</td>\n",
       "      <td>2130</td>\n",
       "      <td>24.6</td>\n",
       "      <td>82</td>\n",
       "      <td>2</td>\n",
       "      <td>1</td>\n",
       "      <td>vw pickup</td>\n",
       "    </tr>\n",
       "    <tr>\n",
       "      <th>395</th>\n",
       "      <td>32.0</td>\n",
       "      <td>4</td>\n",
       "      <td>135.0</td>\n",
       "      <td>84</td>\n",
       "      <td>2295</td>\n",
       "      <td>11.6</td>\n",
       "      <td>82</td>\n",
       "      <td>1</td>\n",
       "      <td>1</td>\n",
       "      <td>dodge rampage</td>\n",
       "    </tr>\n",
       "    <tr>\n",
       "      <th>396</th>\n",
       "      <td>28.0</td>\n",
       "      <td>4</td>\n",
       "      <td>120.0</td>\n",
       "      <td>79</td>\n",
       "      <td>2625</td>\n",
       "      <td>18.6</td>\n",
       "      <td>82</td>\n",
       "      <td>1</td>\n",
       "      <td>1</td>\n",
       "      <td>ford ranger</td>\n",
       "    </tr>\n",
       "    <tr>\n",
       "      <th>397</th>\n",
       "      <td>31.0</td>\n",
       "      <td>4</td>\n",
       "      <td>119.0</td>\n",
       "      <td>82</td>\n",
       "      <td>2720</td>\n",
       "      <td>19.4</td>\n",
       "      <td>82</td>\n",
       "      <td>1</td>\n",
       "      <td>1</td>\n",
       "      <td>chevy s-10</td>\n",
       "    </tr>\n",
       "  </tbody>\n",
       "</table>\n",
       "</div>"
      ],
      "text/plain": [
       "      mpg  cyl   disp  hp    wt   acc  yr  origin  car_type         car_name\n",
       "393  27.0    4  140.0  86  2790  15.6  82       1         1  ford mustang gl\n",
       "394  44.0    4   97.0  52  2130  24.6  82       2         1        vw pickup\n",
       "395  32.0    4  135.0  84  2295  11.6  82       1         1    dodge rampage\n",
       "396  28.0    4  120.0  79  2625  18.6  82       1         1      ford ranger\n",
       "397  31.0    4  119.0  82  2720  19.4  82       1         1       chevy s-10"
      ]
     },
     "execution_count": 3,
     "metadata": {},
     "output_type": "execute_result"
    }
   ],
   "source": [
    "data.tail()"
   ]
  },
  {
   "cell_type": "code",
   "execution_count": 4,
   "metadata": {},
   "outputs": [
    {
     "data": {
      "text/plain": [
       "mpg         0\n",
       "cyl         0\n",
       "disp        0\n",
       "hp          0\n",
       "wt          0\n",
       "acc         0\n",
       "yr          0\n",
       "origin      0\n",
       "car_type    0\n",
       "car_name    0\n",
       "dtype: int64"
      ]
     },
     "execution_count": 4,
     "metadata": {},
     "output_type": "execute_result"
    }
   ],
   "source": [
    "data.isnull().sum()"
   ]
  },
  {
   "cell_type": "code",
   "execution_count": 5,
   "metadata": {},
   "outputs": [],
   "source": [
    "data = data.drop('car_type', axis = 1)"
   ]
  },
  {
   "cell_type": "code",
   "execution_count": 6,
   "metadata": {},
   "outputs": [],
   "source": [
    "mapper = DataFrameMapper([\n",
    "                        (['cyl','disp','wt','acc','yr'], preprocessing.StandardScaler()),\n",
    "                        (['origin'], preprocessing.OneHotEncoder(handle_unknown='ignore'))\n",
    "                        ])"
   ]
  },
  {
   "cell_type": "code",
   "execution_count": 7,
   "metadata": {},
   "outputs": [],
   "source": [
    "pipeline_obj = pipeline.Pipeline([\n",
    "    ('mapper', mapper),\n",
    "    ('model', ensemble.RandomForestRegressor())\n",
    "])"
   ]
  },
  {
   "cell_type": "code",
   "execution_count": 8,
   "metadata": {},
   "outputs": [
    {
     "data": {
      "text/plain": [
       "Index(['mpg', 'cyl', 'disp', 'hp', 'wt', 'acc', 'yr', 'origin', 'car_name'], dtype='object')"
      ]
     },
     "execution_count": 8,
     "metadata": {},
     "output_type": "execute_result"
    }
   ],
   "source": [
    "data.columns"
   ]
  },
  {
   "cell_type": "code",
   "execution_count": 9,
   "metadata": {},
   "outputs": [],
   "source": [
    "X = ['cyl', 'disp', 'hp', 'wt', 'acc', 'yr', 'origin', 'car_name']\n",
    "y = ['mpg']"
   ]
  },
  {
   "cell_type": "code",
   "execution_count": 10,
   "metadata": {},
   "outputs": [
    {
     "name": "stderr",
     "output_type": "stream",
     "text": [
      "F:\\ancnd\\lib\\site-packages\\sklearn\\pipeline.py:335: DataConversionWarning: A column-vector y was passed when a 1d array was expected. Please change the shape of y to (n_samples,), for example using ravel().\n",
      "  self._final_estimator.fit(Xt, y, **fit_params_last_step)\n"
     ]
    },
    {
     "data": {
      "text/plain": [
       "Pipeline(steps=[('mapper',\n",
       "                 DataFrameMapper(drop_cols=[],\n",
       "                                 features=[(['cyl', 'disp', 'wt', 'acc', 'yr'],\n",
       "                                            StandardScaler()),\n",
       "                                           (['origin'],\n",
       "                                            OneHotEncoder(handle_unknown='ignore'))])),\n",
       "                ('model', RandomForestRegressor())])"
      ]
     },
     "execution_count": 10,
     "metadata": {},
     "output_type": "execute_result"
    }
   ],
   "source": [
    "pipeline_obj.fit(data[X], data[y])"
   ]
  },
  {
   "cell_type": "code",
   "execution_count": 11,
   "metadata": {},
   "outputs": [
    {
     "data": {
      "text/plain": [
       "array([17.39 , 14.89 , 17.151, 16.57 , 16.86 , 14.5  , 13.83 , 14.21 ,\n",
       "       13.27 , 14.91 , 14.88 , 14.36 , 15.01 , 14.723, 24.028, 21.24 ,\n",
       "       19.445, 20.828, 26.99 , 26.45 , 24.545, 24.578, 25.059, 25.195,\n",
       "       20.818, 10.63 , 11.11 , 11.87 , 10.176, 26.99 , 26.59 , 24.89 ,\n",
       "       26.325, 19.575, 16.745, 17.491, 18.701, 18.23 , 13.895, 13.54 ,\n",
       "       14.13 , 14.04 , 12.29 , 12.93 , 12.56 , 18.135, 21.721, 18.771,\n",
       "       18.095, 23.85 , 26.93 , 29.595, 29.25 , 31.35 , 33.14 , 27.26 ,\n",
       "       26.635, 24.38 , 25.635, 23.095, 20.59 , 22.335, 13.345, 13.55 ,\n",
       "       14.54 , 14.02 , 15.98 , 11.82 , 12.72 , 12.31 , 13.18 , 20.328,\n",
       "       14.915, 13.485, 13.24 , 14.   , 19.26 , 22.326, 20.638, 26.105,\n",
       "       22.52 , 26.58 , 22.939, 27.05 , 26.73 , 13.41 , 14.77 , 13.42 ,\n",
       "       14.135, 14.58 , 12.08 , 13.13 , 13.155, 14.07 , 12.57 , 12.03 ,\n",
       "       13.6  , 18.564, 16.402, 18.39 , 17.97 , 22.002, 26.33 , 11.56 ,\n",
       "       12.13 , 12.86 , 12.4  , 18.61 , 22.02 , 20.75 , 23.198, 21.545,\n",
       "       20.459, 21.331, 26.12 , 14.19 , 15.015, 28.77 , 24.98 , 21.785,\n",
       "       19.836, 15.111, 23.331, 20.337, 12.39 , 20.29 , 20.865, 19.26 ,\n",
       "       15.916, 31.108, 25.268, 31.403, 24.63 , 15.91 , 16.03 , 18.026,\n",
       "       15.37 , 13.37 , 14.   , 13.707, 14.187, 27.719, 27.365, 26.245,\n",
       "       32.027, 31.66 , 27.31 , 24.97 , 25.792, 24.113, 25.659, 29.975,\n",
       "       19.295, 17.482, 15.425, 15.879, 15.11 , 14.975, 15.335, 14.3  ,\n",
       "       17.247, 16.105, 15.51 , 17.546, 20.522, 18.925, 14.816, 28.51 ,\n",
       "       23.458, 19.885, 22.461, 24.082, 25.774, 23.931, 18.914, 28.915,\n",
       "       18.786, 23.545, 22.46 , 21.393, 24.581, 32.492, 26.883, 25.211,\n",
       "       25.044, 26.105, 26.998, 16.725, 15.785, 14.975, 14.88 , 21.554,\n",
       "       20.606, 23.196, 21.389, 30.141, 25.886, 29.03 , 32.672, 19.26 ,\n",
       "       18.112, 18.323, 18.204, 29.21 , 31.967, 28.283, 25.971, 20.331,\n",
       "       13.64 , 19.964, 19.547, 17.036, 15.815, 13.85 , 13.763, 13.554,\n",
       "       31.629, 29.285, 34.048, 25.656, 33.048, 16.813, 17.1  , 15.628,\n",
       "       15.514, 17.992, 20.39 , 19.076, 18.35 , 15.785, 15.599, 15.689,\n",
       "       15.77 , 29.363, 24.4  , 26.035, 24.688, 30.644, 32.214, 30.474,\n",
       "       29.536, 21.515, 23.002, 22.322, 40.859, 35.267, 34.004, 37.769,\n",
       "       35.331, 19.56 , 19.027, 19.572, 19.062, 20.54 , 20.386, 24.846,\n",
       "       20.182, 19.799, 20.55 , 20.785, 18.821, 18.852, 19.122, 18.428,\n",
       "       18.374, 16.985, 30.539, 26.053, 27.209, 30.077, 23.484, 23.432,\n",
       "       23.078, 24.704, 21.552, 17.523, 22.48 , 17.099, 32.692, 30.589,\n",
       "       21.258, 20.954, 23.74 , 20.281, 20.483, 17.496, 18.232, 16.902,\n",
       "       18.114, 16.539, 15.975, 20.046, 17.76 , 35.774, 34.624, 35.662,\n",
       "       28.321, 25.073, 21.238, 27.164, 22.624, 34.912, 34.992, 34.071,\n",
       "       37.403, 28.089, 27.572, 25.844, 31.853, 38.702, 36.905, 33.695,\n",
       "       36.879, 27.872, 25.642, 24.756, 20.062, 34.153, 29.845, 31.897,\n",
       "       34.961, 33.077, 42.342, 26.719, 40.634, 43.581, 40.465, 32.708,\n",
       "       29.143, 41.085, 39.127, 35.435, 32.451, 30.183, 28.75 , 34.36 ,\n",
       "       24.15 , 32.704, 28.291, 26.87 , 26.224, 24.544, 30.814, 37.858,\n",
       "       37.753, 35.687, 33.525, 36.979, 36.607, 34.972, 34.552, 34.408,\n",
       "       32.756, 33.873, 34.137, 34.141, 32.62 , 32.483, 31.196, 28.412,\n",
       "       27.299, 25.781, 25.369, 21.599, 24.216, 21.399, 18.877, 28.786,\n",
       "       28.148, 32.983, 30.279, 29.053, 27.136, 24.665, 24.331, 35.784,\n",
       "       36.526, 32.609, 37.682, 35.83 , 35.899, 35.349, 33.766, 36.405,\n",
       "       33.883, 36.846, 25.097, 31.516, 26.768, 24.264, 30.345, 33.899,\n",
       "       25.882, 26.727, 43.196, 32.506, 28.392, 29.601])"
      ]
     },
     "execution_count": 11,
     "metadata": {},
     "output_type": "execute_result"
    }
   ],
   "source": [
    "pipeline_obj.predict(data[X])"
   ]
  },
  {
   "cell_type": "code",
   "execution_count": 12,
   "metadata": {},
   "outputs": [],
   "source": [
    "import joblib"
   ]
  },
  {
   "cell_type": "code",
   "execution_count": 13,
   "metadata": {},
   "outputs": [
    {
     "data": {
      "text/plain": [
       "['RF_MPG.pkl']"
      ]
     },
     "execution_count": 13,
     "metadata": {},
     "output_type": "execute_result"
    }
   ],
   "source": [
    "joblib.dump(pipeline_obj, 'RF_MPG.pkl')"
   ]
  },
  {
   "cell_type": "code",
   "execution_count": 14,
   "metadata": {},
   "outputs": [],
   "source": [
    "reloadModel = joblib.load('RF_MPG.pkl')"
   ]
  },
  {
   "cell_type": "code",
   "execution_count": 15,
   "metadata": {},
   "outputs": [
    {
     "data": {
      "text/plain": [
       "array([17.39 , 14.89 , 17.151, 16.57 , 16.86 , 14.5  , 13.83 , 14.21 ,\n",
       "       13.27 , 14.91 , 14.88 , 14.36 , 15.01 , 14.723, 24.028, 21.24 ,\n",
       "       19.445, 20.828, 26.99 , 26.45 , 24.545, 24.578, 25.059, 25.195,\n",
       "       20.818, 10.63 , 11.11 , 11.87 , 10.176, 26.99 , 26.59 , 24.89 ,\n",
       "       26.325, 19.575, 16.745, 17.491, 18.701, 18.23 , 13.895, 13.54 ,\n",
       "       14.13 , 14.04 , 12.29 , 12.93 , 12.56 , 18.135, 21.721, 18.771,\n",
       "       18.095, 23.85 , 26.93 , 29.595, 29.25 , 31.35 , 33.14 , 27.26 ,\n",
       "       26.635, 24.38 , 25.635, 23.095, 20.59 , 22.335, 13.345, 13.55 ,\n",
       "       14.54 , 14.02 , 15.98 , 11.82 , 12.72 , 12.31 , 13.18 , 20.328,\n",
       "       14.915, 13.485, 13.24 , 14.   , 19.26 , 22.326, 20.638, 26.105,\n",
       "       22.52 , 26.58 , 22.939, 27.05 , 26.73 , 13.41 , 14.77 , 13.42 ,\n",
       "       14.135, 14.58 , 12.08 , 13.13 , 13.155, 14.07 , 12.57 , 12.03 ,\n",
       "       13.6  , 18.564, 16.402, 18.39 , 17.97 , 22.002, 26.33 , 11.56 ,\n",
       "       12.13 , 12.86 , 12.4  , 18.61 , 22.02 , 20.75 , 23.198, 21.545,\n",
       "       20.459, 21.331, 26.12 , 14.19 , 15.015, 28.77 , 24.98 , 21.785,\n",
       "       19.836, 15.111, 23.331, 20.337, 12.39 , 20.29 , 20.865, 19.26 ,\n",
       "       15.916, 31.108, 25.268, 31.403, 24.63 , 15.91 , 16.03 , 18.026,\n",
       "       15.37 , 13.37 , 14.   , 13.707, 14.187, 27.719, 27.365, 26.245,\n",
       "       32.027, 31.66 , 27.31 , 24.97 , 25.792, 24.113, 25.659, 29.975,\n",
       "       19.295, 17.482, 15.425, 15.879, 15.11 , 14.975, 15.335, 14.3  ,\n",
       "       17.247, 16.105, 15.51 , 17.546, 20.522, 18.925, 14.816, 28.51 ,\n",
       "       23.458, 19.885, 22.461, 24.082, 25.774, 23.931, 18.914, 28.915,\n",
       "       18.786, 23.545, 22.46 , 21.393, 24.581, 32.492, 26.883, 25.211,\n",
       "       25.044, 26.105, 26.998, 16.725, 15.785, 14.975, 14.88 , 21.554,\n",
       "       20.606, 23.196, 21.389, 30.141, 25.886, 29.03 , 32.672, 19.26 ,\n",
       "       18.112, 18.323, 18.204, 29.21 , 31.967, 28.283, 25.971, 20.331,\n",
       "       13.64 , 19.964, 19.547, 17.036, 15.815, 13.85 , 13.763, 13.554,\n",
       "       31.629, 29.285, 34.048, 25.656, 33.048, 16.813, 17.1  , 15.628,\n",
       "       15.514, 17.992, 20.39 , 19.076, 18.35 , 15.785, 15.599, 15.689,\n",
       "       15.77 , 29.363, 24.4  , 26.035, 24.688, 30.644, 32.214, 30.474,\n",
       "       29.536, 21.515, 23.002, 22.322, 40.859, 35.267, 34.004, 37.769,\n",
       "       35.331, 19.56 , 19.027, 19.572, 19.062, 20.54 , 20.386, 24.846,\n",
       "       20.182, 19.799, 20.55 , 20.785, 18.821, 18.852, 19.122, 18.428,\n",
       "       18.374, 16.985, 30.539, 26.053, 27.209, 30.077, 23.484, 23.432,\n",
       "       23.078, 24.704, 21.552, 17.523, 22.48 , 17.099, 32.692, 30.589,\n",
       "       21.258, 20.954, 23.74 , 20.281, 20.483, 17.496, 18.232, 16.902,\n",
       "       18.114, 16.539, 15.975, 20.046, 17.76 , 35.774, 34.624, 35.662,\n",
       "       28.321, 25.073, 21.238, 27.164, 22.624, 34.912, 34.992, 34.071,\n",
       "       37.403, 28.089, 27.572, 25.844, 31.853, 38.702, 36.905, 33.695,\n",
       "       36.879, 27.872, 25.642, 24.756, 20.062, 34.153, 29.845, 31.897,\n",
       "       34.961, 33.077, 42.342, 26.719, 40.634, 43.581, 40.465, 32.708,\n",
       "       29.143, 41.085, 39.127, 35.435, 32.451, 30.183, 28.75 , 34.36 ,\n",
       "       24.15 , 32.704, 28.291, 26.87 , 26.224, 24.544, 30.814, 37.858,\n",
       "       37.753, 35.687, 33.525, 36.979, 36.607, 34.972, 34.552, 34.408,\n",
       "       32.756, 33.873, 34.137, 34.141, 32.62 , 32.483, 31.196, 28.412,\n",
       "       27.299, 25.781, 25.369, 21.599, 24.216, 21.399, 18.877, 28.786,\n",
       "       28.148, 32.983, 30.279, 29.053, 27.136, 24.665, 24.331, 35.784,\n",
       "       36.526, 32.609, 37.682, 35.83 , 35.899, 35.349, 33.766, 36.405,\n",
       "       33.883, 36.846, 25.097, 31.516, 26.768, 24.264, 30.345, 33.899,\n",
       "       25.882, 26.727, 43.196, 32.506, 28.392, 29.601])"
      ]
     },
     "execution_count": 15,
     "metadata": {},
     "output_type": "execute_result"
    }
   ],
   "source": [
    "reloadModel.predict(data[X])"
   ]
  },
  {
   "cell_type": "code",
   "execution_count": 16,
   "metadata": {},
   "outputs": [],
   "source": [
    "temp = {}\n",
    "temp['cyl'] = 1\n",
    "temp['disp'] = 2\n",
    "temp['hp'] = 3\n",
    "temp['wt'] = 4\n",
    "temp['acc'] = 5\n",
    "temp['yr'] = 6\n",
    "temp['origin'] = 1"
   ]
  },
  {
   "cell_type": "code",
   "execution_count": 17,
   "metadata": {},
   "outputs": [],
   "source": [
    "testData = pd.DataFrame({'x':temp}).transpose()"
   ]
  },
  {
   "cell_type": "code",
   "execution_count": 18,
   "metadata": {},
   "outputs": [
    {
     "data": {
      "text/html": [
       "<div>\n",
       "<style scoped>\n",
       "    .dataframe tbody tr th:only-of-type {\n",
       "        vertical-align: middle;\n",
       "    }\n",
       "\n",
       "    .dataframe tbody tr th {\n",
       "        vertical-align: top;\n",
       "    }\n",
       "\n",
       "    .dataframe thead th {\n",
       "        text-align: right;\n",
       "    }\n",
       "</style>\n",
       "<table border=\"1\" class=\"dataframe\">\n",
       "  <thead>\n",
       "    <tr style=\"text-align: right;\">\n",
       "      <th></th>\n",
       "      <th>acc</th>\n",
       "      <th>cyl</th>\n",
       "      <th>disp</th>\n",
       "      <th>hp</th>\n",
       "      <th>origin</th>\n",
       "      <th>wt</th>\n",
       "      <th>yr</th>\n",
       "    </tr>\n",
       "  </thead>\n",
       "  <tbody>\n",
       "    <tr>\n",
       "      <th>x</th>\n",
       "      <td>5</td>\n",
       "      <td>1</td>\n",
       "      <td>2</td>\n",
       "      <td>3</td>\n",
       "      <td>1</td>\n",
       "      <td>4</td>\n",
       "      <td>6</td>\n",
       "    </tr>\n",
       "  </tbody>\n",
       "</table>\n",
       "</div>"
      ],
      "text/plain": [
       "   acc  cyl  disp  hp  origin  wt  yr\n",
       "x    5    1     2   3       1   4   6"
      ]
     },
     "execution_count": 18,
     "metadata": {},
     "output_type": "execute_result"
    }
   ],
   "source": [
    "testData"
   ]
  },
  {
   "cell_type": "code",
   "execution_count": 19,
   "metadata": {},
   "outputs": [
    {
     "data": {
      "text/plain": [
       "29.256"
      ]
     },
     "execution_count": 19,
     "metadata": {},
     "output_type": "execute_result"
    }
   ],
   "source": [
    "reloadModel.predict(testData)[0]"
   ]
  },
  {
   "cell_type": "code",
   "execution_count": null,
   "metadata": {},
   "outputs": [],
   "source": []
  }
 ],
 "metadata": {
  "kernelspec": {
   "display_name": "Python 3",
   "language": "python",
   "name": "python3"
  },
  "language_info": {
   "codemirror_mode": {
    "name": "ipython",
    "version": 3
   },
   "file_extension": ".py",
   "mimetype": "text/x-python",
   "name": "python",
   "nbconvert_exporter": "python",
   "pygments_lexer": "ipython3",
   "version": "3.8.3"
  }
 },
 "nbformat": 4,
 "nbformat_minor": 4
}

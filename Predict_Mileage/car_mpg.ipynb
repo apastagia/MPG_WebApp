{
 "cells": [
  {
   "cell_type": "code",
   "execution_count": 1,
   "metadata": {},
   "outputs": [],
   "source": [
    "import pandas as pd\n",
    "import numpy as np\n",
    "from sklearn import pipeline, preprocessing, metrics, model_selection, ensemble\n",
    "from sklearn_pandas import DataFrameMapper\n",
    "from sklearn.impute import SimpleImputer"
   ]
  },
  {
   "cell_type": "code",
   "execution_count": 2,
   "metadata": {},
   "outputs": [
    {
     "data": {
      "text/html": [
       "<div>\n",
       "<style scoped>\n",
       "    .dataframe tbody tr th:only-of-type {\n",
       "        vertical-align: middle;\n",
       "    }\n",
       "\n",
       "    .dataframe tbody tr th {\n",
       "        vertical-align: top;\n",
       "    }\n",
       "\n",
       "    .dataframe thead th {\n",
       "        text-align: right;\n",
       "    }\n",
       "</style>\n",
       "<table border=\"1\" class=\"dataframe\">\n",
       "  <thead>\n",
       "    <tr style=\"text-align: right;\">\n",
       "      <th></th>\n",
       "      <th>mpg</th>\n",
       "      <th>cyl</th>\n",
       "      <th>disp</th>\n",
       "      <th>hp</th>\n",
       "      <th>wt</th>\n",
       "      <th>acc</th>\n",
       "      <th>yr</th>\n",
       "      <th>origin</th>\n",
       "      <th>car_type</th>\n",
       "      <th>car_name</th>\n",
       "    </tr>\n",
       "  </thead>\n",
       "  <tbody>\n",
       "    <tr>\n",
       "      <th>0</th>\n",
       "      <td>18.0</td>\n",
       "      <td>8</td>\n",
       "      <td>307.0</td>\n",
       "      <td>130</td>\n",
       "      <td>3504</td>\n",
       "      <td>12.0</td>\n",
       "      <td>70</td>\n",
       "      <td>1</td>\n",
       "      <td>0</td>\n",
       "      <td>chevrolet chevelle malibu</td>\n",
       "    </tr>\n",
       "    <tr>\n",
       "      <th>1</th>\n",
       "      <td>15.0</td>\n",
       "      <td>8</td>\n",
       "      <td>350.0</td>\n",
       "      <td>165</td>\n",
       "      <td>3693</td>\n",
       "      <td>11.5</td>\n",
       "      <td>70</td>\n",
       "      <td>1</td>\n",
       "      <td>0</td>\n",
       "      <td>buick skylark 320</td>\n",
       "    </tr>\n",
       "    <tr>\n",
       "      <th>2</th>\n",
       "      <td>18.0</td>\n",
       "      <td>8</td>\n",
       "      <td>318.0</td>\n",
       "      <td>150</td>\n",
       "      <td>3436</td>\n",
       "      <td>11.0</td>\n",
       "      <td>70</td>\n",
       "      <td>1</td>\n",
       "      <td>0</td>\n",
       "      <td>plymouth satellite</td>\n",
       "    </tr>\n",
       "    <tr>\n",
       "      <th>3</th>\n",
       "      <td>16.0</td>\n",
       "      <td>8</td>\n",
       "      <td>304.0</td>\n",
       "      <td>150</td>\n",
       "      <td>3433</td>\n",
       "      <td>12.0</td>\n",
       "      <td>70</td>\n",
       "      <td>1</td>\n",
       "      <td>0</td>\n",
       "      <td>amc rebel sst</td>\n",
       "    </tr>\n",
       "    <tr>\n",
       "      <th>4</th>\n",
       "      <td>17.0</td>\n",
       "      <td>8</td>\n",
       "      <td>302.0</td>\n",
       "      <td>140</td>\n",
       "      <td>3449</td>\n",
       "      <td>10.5</td>\n",
       "      <td>70</td>\n",
       "      <td>1</td>\n",
       "      <td>0</td>\n",
       "      <td>ford torino</td>\n",
       "    </tr>\n",
       "  </tbody>\n",
       "</table>\n",
       "</div>"
      ],
      "text/plain": [
       "    mpg  cyl   disp   hp    wt   acc  yr  origin  car_type  \\\n",
       "0  18.0    8  307.0  130  3504  12.0  70       1         0   \n",
       "1  15.0    8  350.0  165  3693  11.5  70       1         0   \n",
       "2  18.0    8  318.0  150  3436  11.0  70       1         0   \n",
       "3  16.0    8  304.0  150  3433  12.0  70       1         0   \n",
       "4  17.0    8  302.0  140  3449  10.5  70       1         0   \n",
       "\n",
       "                    car_name  \n",
       "0  chevrolet chevelle malibu  \n",
       "1          buick skylark 320  \n",
       "2         plymouth satellite  \n",
       "3              amc rebel sst  \n",
       "4                ford torino  "
      ]
     },
     "execution_count": 2,
     "metadata": {},
     "output_type": "execute_result"
    }
   ],
   "source": [
    "data = pd.read_csv('car-mpg.csv')\n",
    "data.head()"
   ]
  },
  {
   "cell_type": "code",
   "execution_count": 3,
   "metadata": {},
   "outputs": [
    {
     "data": {
      "text/html": [
       "<div>\n",
       "<style scoped>\n",
       "    .dataframe tbody tr th:only-of-type {\n",
       "        vertical-align: middle;\n",
       "    }\n",
       "\n",
       "    .dataframe tbody tr th {\n",
       "        vertical-align: top;\n",
       "    }\n",
       "\n",
       "    .dataframe thead th {\n",
       "        text-align: right;\n",
       "    }\n",
       "</style>\n",
       "<table border=\"1\" class=\"dataframe\">\n",
       "  <thead>\n",
       "    <tr style=\"text-align: right;\">\n",
       "      <th></th>\n",
       "      <th>mpg</th>\n",
       "      <th>cyl</th>\n",
       "      <th>disp</th>\n",
       "      <th>hp</th>\n",
       "      <th>wt</th>\n",
       "      <th>acc</th>\n",
       "      <th>yr</th>\n",
       "      <th>origin</th>\n",
       "      <th>car_type</th>\n",
       "      <th>car_name</th>\n",
       "    </tr>\n",
       "  </thead>\n",
       "  <tbody>\n",
       "    <tr>\n",
       "      <th>393</th>\n",
       "      <td>27.0</td>\n",
       "      <td>4</td>\n",
       "      <td>140.0</td>\n",
       "      <td>86</td>\n",
       "      <td>2790</td>\n",
       "      <td>15.6</td>\n",
       "      <td>82</td>\n",
       "      <td>1</td>\n",
       "      <td>1</td>\n",
       "      <td>ford mustang gl</td>\n",
       "    </tr>\n",
       "    <tr>\n",
       "      <th>394</th>\n",
       "      <td>44.0</td>\n",
       "      <td>4</td>\n",
       "      <td>97.0</td>\n",
       "      <td>52</td>\n",
       "      <td>2130</td>\n",
       "      <td>24.6</td>\n",
       "      <td>82</td>\n",
       "      <td>2</td>\n",
       "      <td>1</td>\n",
       "      <td>vw pickup</td>\n",
       "    </tr>\n",
       "    <tr>\n",
       "      <th>395</th>\n",
       "      <td>32.0</td>\n",
       "      <td>4</td>\n",
       "      <td>135.0</td>\n",
       "      <td>84</td>\n",
       "      <td>2295</td>\n",
       "      <td>11.6</td>\n",
       "      <td>82</td>\n",
       "      <td>1</td>\n",
       "      <td>1</td>\n",
       "      <td>dodge rampage</td>\n",
       "    </tr>\n",
       "    <tr>\n",
       "      <th>396</th>\n",
       "      <td>28.0</td>\n",
       "      <td>4</td>\n",
       "      <td>120.0</td>\n",
       "      <td>79</td>\n",
       "      <td>2625</td>\n",
       "      <td>18.6</td>\n",
       "      <td>82</td>\n",
       "      <td>1</td>\n",
       "      <td>1</td>\n",
       "      <td>ford ranger</td>\n",
       "    </tr>\n",
       "    <tr>\n",
       "      <th>397</th>\n",
       "      <td>31.0</td>\n",
       "      <td>4</td>\n",
       "      <td>119.0</td>\n",
       "      <td>82</td>\n",
       "      <td>2720</td>\n",
       "      <td>19.4</td>\n",
       "      <td>82</td>\n",
       "      <td>1</td>\n",
       "      <td>1</td>\n",
       "      <td>chevy s-10</td>\n",
       "    </tr>\n",
       "  </tbody>\n",
       "</table>\n",
       "</div>"
      ],
      "text/plain": [
       "      mpg  cyl   disp  hp    wt   acc  yr  origin  car_type         car_name\n",
       "393  27.0    4  140.0  86  2790  15.6  82       1         1  ford mustang gl\n",
       "394  44.0    4   97.0  52  2130  24.6  82       2         1        vw pickup\n",
       "395  32.0    4  135.0  84  2295  11.6  82       1         1    dodge rampage\n",
       "396  28.0    4  120.0  79  2625  18.6  82       1         1      ford ranger\n",
       "397  31.0    4  119.0  82  2720  19.4  82       1         1       chevy s-10"
      ]
     },
     "execution_count": 3,
     "metadata": {},
     "output_type": "execute_result"
    }
   ],
   "source": [
    "data.tail()"
   ]
  },
  {
   "cell_type": "code",
   "execution_count": 4,
   "metadata": {},
   "outputs": [
    {
     "data": {
      "text/plain": [
       "mpg         0\n",
       "cyl         0\n",
       "disp        0\n",
       "hp          0\n",
       "wt          0\n",
       "acc         0\n",
       "yr          0\n",
       "origin      0\n",
       "car_type    0\n",
       "car_name    0\n",
       "dtype: int64"
      ]
     },
     "execution_count": 4,
     "metadata": {},
     "output_type": "execute_result"
    }
   ],
   "source": [
    "data.isnull().sum()"
   ]
  },
  {
   "cell_type": "code",
   "execution_count": 5,
   "metadata": {},
   "outputs": [],
   "source": [
    "data = data.drop('car_type', axis = 1)"
   ]
  },
  {
   "cell_type": "code",
   "execution_count": 6,
   "metadata": {},
   "outputs": [],
   "source": [
    "mapper = DataFrameMapper([\n",
    "                        (['cyl','disp','wt','acc','yr'], preprocessing.StandardScaler()),\n",
    "                        (['origin'], preprocessing.OneHotEncoder())\n",
    "                        ])"
   ]
  },
  {
   "cell_type": "code",
   "execution_count": 7,
   "metadata": {},
   "outputs": [],
   "source": [
    "pipeline_obj = pipeline.Pipeline([\n",
    "    ('mapper', mapper),\n",
    "    ('model', ensemble.RandomForestRegressor())\n",
    "])"
   ]
  },
  {
   "cell_type": "code",
   "execution_count": 8,
   "metadata": {},
   "outputs": [
    {
     "data": {
      "text/plain": [
       "Index(['mpg', 'cyl', 'disp', 'hp', 'wt', 'acc', 'yr', 'origin', 'car_name'], dtype='object')"
      ]
     },
     "execution_count": 8,
     "metadata": {},
     "output_type": "execute_result"
    }
   ],
   "source": [
    "data.columns"
   ]
  },
  {
   "cell_type": "code",
   "execution_count": 9,
   "metadata": {},
   "outputs": [],
   "source": [
    "X = ['cyl', 'disp', 'hp', 'wt', 'acc', 'yr', 'origin', 'car_name']\n",
    "y = ['mpg']"
   ]
  },
  {
   "cell_type": "code",
   "execution_count": 10,
   "metadata": {},
   "outputs": [
    {
     "name": "stderr",
     "output_type": "stream",
     "text": [
      "F:\\ancnd\\lib\\site-packages\\sklearn\\pipeline.py:335: DataConversionWarning: A column-vector y was passed when a 1d array was expected. Please change the shape of y to (n_samples,), for example using ravel().\n",
      "  self._final_estimator.fit(Xt, y, **fit_params_last_step)\n"
     ]
    },
    {
     "data": {
      "text/plain": [
       "Pipeline(steps=[('mapper',\n",
       "                 DataFrameMapper(drop_cols=[],\n",
       "                                 features=[(['cyl', 'disp', 'wt', 'acc', 'yr'],\n",
       "                                            StandardScaler()),\n",
       "                                           (['origin'], OneHotEncoder())])),\n",
       "                ('model', RandomForestRegressor())])"
      ]
     },
     "execution_count": 10,
     "metadata": {},
     "output_type": "execute_result"
    }
   ],
   "source": [
    "pipeline_obj.fit(data[X], data[y])"
   ]
  },
  {
   "cell_type": "code",
   "execution_count": 11,
   "metadata": {},
   "outputs": [
    {
     "data": {
      "text/plain": [
       "array([17.33 , 14.65 , 16.91 , 16.34 , 16.983, 14.46 , 13.86 , 14.19 ,\n",
       "       13.3  , 14.82 , 14.84 , 14.34 , 14.99 , 14.62 , 23.89 , 21.086,\n",
       "       19.193, 20.62 , 27.11 , 26.732, 24.32 , 24.429, 24.809, 25.224,\n",
       "       20.573, 10.55 , 11.155, 11.73 , 10.04 , 27.13 , 26.465, 24.972,\n",
       "       26.165, 19.397, 16.592, 17.32 , 18.67 , 18.26 , 13.88 , 13.38 ,\n",
       "       14.16 , 14.18 , 12.11 , 12.94 , 12.56 , 18.1  , 21.78 , 18.68 ,\n",
       "       18.09 , 23.764, 27.025, 29.605, 29.44 , 31.32 , 33.59 , 27.297,\n",
       "       26.65 , 24.724, 25.515, 23.006, 20.58 , 22.48 , 13.36 , 13.55 ,\n",
       "       14.55 , 13.995, 16.29 , 11.96 , 12.6  , 12.31 , 13.06 , 20.545,\n",
       "       14.96 , 13.665, 13.24 , 14.015, 19.2  , 22.23 , 20.62 , 26.01 ,\n",
       "       22.475, 26.54 , 22.605, 27.245, 26.765, 13.49 , 14.84 , 13.42 ,\n",
       "       14.09 , 14.53 , 12.04 , 13.115, 13.29 , 13.985, 12.51 , 12.11 ,\n",
       "       13.17 , 18.483, 16.655, 18.29 , 17.77 , 21.914, 26.36 , 11.34 ,\n",
       "       12.13 , 12.79 , 12.35 , 18.37 , 21.76 , 20.82 , 22.78 , 21.921,\n",
       "       20.512, 21.626, 25.74 , 14.39 , 15.215, 28.78 , 24.675, 21.505,\n",
       "       19.767, 14.68 , 22.89 , 20.425, 12.24 , 20.097, 20.671, 19.194,\n",
       "       15.985, 31.035, 25.112, 31.615, 24.621, 16.   , 16.04 , 17.802,\n",
       "       15.23 , 13.25 , 13.975, 13.74 , 14.272, 27.894, 27.54 , 26.104,\n",
       "       31.997, 31.645, 27.555, 25.2  , 25.83 , 24.209, 25.504, 30.175,\n",
       "       19.48 , 17.516, 15.626, 15.971, 15.26 , 14.92 , 15.305, 14.415,\n",
       "       17.027, 15.925, 15.412, 17.341, 20.603, 20.065, 14.919, 28.385,\n",
       "       23.442, 19.764, 22.64 , 24.116, 25.609, 24.032, 19.109, 28.81 ,\n",
       "       18.886, 23.484, 22.302, 21.439, 24.33 , 32.47 , 26.531, 25.19 ,\n",
       "       25.08 , 26.034, 27.265, 16.62 , 15.755, 15.08 , 14.865, 21.451,\n",
       "       20.475, 22.713, 21.593, 29.611, 25.941, 29.055, 32.57 , 19.595,\n",
       "       18.287, 18.451, 18.473, 29.46 , 31.85 , 28.055, 25.84 , 20.295,\n",
       "       13.875, 19.948, 19.858, 16.936, 15.83 , 13.945, 13.966, 13.834,\n",
       "       31.33 , 29.631, 33.86 , 25.386, 32.843, 16.743, 16.991, 15.635,\n",
       "       15.22 , 17.944, 20.356, 19.123, 18.376, 15.905, 15.624, 15.714,\n",
       "       15.731, 29.569, 24.5  , 25.259, 25.06 , 30.805, 32.045, 30.785,\n",
       "       29.766, 21.678, 22.586, 22.564, 40.365, 35.798, 34.   , 37.072,\n",
       "       35.512, 19.484, 18.991, 19.751, 18.99 , 20.496, 20.706, 24.819,\n",
       "       19.939, 19.762, 20.473, 20.733, 18.73 , 18.622, 19.219, 18.243,\n",
       "       17.958, 16.955, 30.534, 25.387, 27.331, 29.637, 22.914, 23.716,\n",
       "       23.122, 24.513, 21.494, 17.731, 21.989, 17.144, 32.366, 30.802,\n",
       "       21.2  , 21.307, 23.423, 20.254, 20.449, 17.663, 18.311, 17.217,\n",
       "       18.06 , 16.507, 15.893, 20.119, 17.981, 33.509, 34.11 , 35.161,\n",
       "       28.026, 25.311, 21.079, 26.874, 22.219, 34.826, 34.561, 34.249,\n",
       "       37.128, 27.729, 27.751, 26.183, 31.163, 39.095, 37.541, 33.597,\n",
       "       37.307, 27.8  , 25.638, 25.118, 20.575, 34.393, 29.73 , 31.568,\n",
       "       35.124, 32.915, 43.248, 27.226, 41.085, 42.925, 41.633, 33.594,\n",
       "       29.053, 40.391, 39.088, 35.724, 33.124, 29.735, 29.11 , 34.147,\n",
       "       24.252, 33.011, 28.595, 26.924, 26.321, 24.804, 31.24 , 38.305,\n",
       "       38.171, 36.25 , 34.283, 37.3  , 36.693, 34.358, 34.43 , 34.664,\n",
       "       32.45 , 33.71 , 34.311, 34.119, 32.895, 32.455, 31.138, 28.417,\n",
       "       27.631, 25.761, 25.312, 21.642, 24.185, 21.429, 18.736, 28.676,\n",
       "       27.849, 32.881, 30.271, 29.231, 27.041, 24.974, 24.166, 35.248,\n",
       "       36.702, 33.493, 37.093, 36.025, 36.016, 35.349, 34.009, 36.055,\n",
       "       33.248, 36.673, 25.529, 30.642, 26.549, 24.532, 30.02 , 34.118,\n",
       "       25.912, 26.761, 42.979, 32.321, 28.076, 29.894])"
      ]
     },
     "execution_count": 11,
     "metadata": {},
     "output_type": "execute_result"
    }
   ],
   "source": [
    "pipeline_obj.predict(data[X])"
   ]
  },
  {
   "cell_type": "code",
   "execution_count": 15,
   "metadata": {},
   "outputs": [],
   "source": [
    "import joblib"
   ]
  },
  {
   "cell_type": "code",
   "execution_count": 16,
   "metadata": {},
   "outputs": [
    {
     "data": {
      "text/plain": [
       "['RF_MPG.pkl']"
      ]
     },
     "execution_count": 16,
     "metadata": {},
     "output_type": "execute_result"
    }
   ],
   "source": [
    "joblib.dump(pipeline_obj, 'RF_MPG.pkl')"
   ]
  },
  {
   "cell_type": "code",
   "execution_count": 17,
   "metadata": {},
   "outputs": [],
   "source": [
    "model_reload = joblib.load('RF_MPG.pkl')"
   ]
  },
  {
   "cell_type": "code",
   "execution_count": 18,
   "metadata": {},
   "outputs": [
    {
     "data": {
      "text/plain": [
       "array([17.33 , 14.65 , 16.91 , 16.34 , 16.983, 14.46 , 13.86 , 14.19 ,\n",
       "       13.3  , 14.82 , 14.84 , 14.34 , 14.99 , 14.62 , 23.89 , 21.086,\n",
       "       19.193, 20.62 , 27.11 , 26.732, 24.32 , 24.429, 24.809, 25.224,\n",
       "       20.573, 10.55 , 11.155, 11.73 , 10.04 , 27.13 , 26.465, 24.972,\n",
       "       26.165, 19.397, 16.592, 17.32 , 18.67 , 18.26 , 13.88 , 13.38 ,\n",
       "       14.16 , 14.18 , 12.11 , 12.94 , 12.56 , 18.1  , 21.78 , 18.68 ,\n",
       "       18.09 , 23.764, 27.025, 29.605, 29.44 , 31.32 , 33.59 , 27.297,\n",
       "       26.65 , 24.724, 25.515, 23.006, 20.58 , 22.48 , 13.36 , 13.55 ,\n",
       "       14.55 , 13.995, 16.29 , 11.96 , 12.6  , 12.31 , 13.06 , 20.545,\n",
       "       14.96 , 13.665, 13.24 , 14.015, 19.2  , 22.23 , 20.62 , 26.01 ,\n",
       "       22.475, 26.54 , 22.605, 27.245, 26.765, 13.49 , 14.84 , 13.42 ,\n",
       "       14.09 , 14.53 , 12.04 , 13.115, 13.29 , 13.985, 12.51 , 12.11 ,\n",
       "       13.17 , 18.483, 16.655, 18.29 , 17.77 , 21.914, 26.36 , 11.34 ,\n",
       "       12.13 , 12.79 , 12.35 , 18.37 , 21.76 , 20.82 , 22.78 , 21.921,\n",
       "       20.512, 21.626, 25.74 , 14.39 , 15.215, 28.78 , 24.675, 21.505,\n",
       "       19.767, 14.68 , 22.89 , 20.425, 12.24 , 20.097, 20.671, 19.194,\n",
       "       15.985, 31.035, 25.112, 31.615, 24.621, 16.   , 16.04 , 17.802,\n",
       "       15.23 , 13.25 , 13.975, 13.74 , 14.272, 27.894, 27.54 , 26.104,\n",
       "       31.997, 31.645, 27.555, 25.2  , 25.83 , 24.209, 25.504, 30.175,\n",
       "       19.48 , 17.516, 15.626, 15.971, 15.26 , 14.92 , 15.305, 14.415,\n",
       "       17.027, 15.925, 15.412, 17.341, 20.603, 20.065, 14.919, 28.385,\n",
       "       23.442, 19.764, 22.64 , 24.116, 25.609, 24.032, 19.109, 28.81 ,\n",
       "       18.886, 23.484, 22.302, 21.439, 24.33 , 32.47 , 26.531, 25.19 ,\n",
       "       25.08 , 26.034, 27.265, 16.62 , 15.755, 15.08 , 14.865, 21.451,\n",
       "       20.475, 22.713, 21.593, 29.611, 25.941, 29.055, 32.57 , 19.595,\n",
       "       18.287, 18.451, 18.473, 29.46 , 31.85 , 28.055, 25.84 , 20.295,\n",
       "       13.875, 19.948, 19.858, 16.936, 15.83 , 13.945, 13.966, 13.834,\n",
       "       31.33 , 29.631, 33.86 , 25.386, 32.843, 16.743, 16.991, 15.635,\n",
       "       15.22 , 17.944, 20.356, 19.123, 18.376, 15.905, 15.624, 15.714,\n",
       "       15.731, 29.569, 24.5  , 25.259, 25.06 , 30.805, 32.045, 30.785,\n",
       "       29.766, 21.678, 22.586, 22.564, 40.365, 35.798, 34.   , 37.072,\n",
       "       35.512, 19.484, 18.991, 19.751, 18.99 , 20.496, 20.706, 24.819,\n",
       "       19.939, 19.762, 20.473, 20.733, 18.73 , 18.622, 19.219, 18.243,\n",
       "       17.958, 16.955, 30.534, 25.387, 27.331, 29.637, 22.914, 23.716,\n",
       "       23.122, 24.513, 21.494, 17.731, 21.989, 17.144, 32.366, 30.802,\n",
       "       21.2  , 21.307, 23.423, 20.254, 20.449, 17.663, 18.311, 17.217,\n",
       "       18.06 , 16.507, 15.893, 20.119, 17.981, 33.509, 34.11 , 35.161,\n",
       "       28.026, 25.311, 21.079, 26.874, 22.219, 34.826, 34.561, 34.249,\n",
       "       37.128, 27.729, 27.751, 26.183, 31.163, 39.095, 37.541, 33.597,\n",
       "       37.307, 27.8  , 25.638, 25.118, 20.575, 34.393, 29.73 , 31.568,\n",
       "       35.124, 32.915, 43.248, 27.226, 41.085, 42.925, 41.633, 33.594,\n",
       "       29.053, 40.391, 39.088, 35.724, 33.124, 29.735, 29.11 , 34.147,\n",
       "       24.252, 33.011, 28.595, 26.924, 26.321, 24.804, 31.24 , 38.305,\n",
       "       38.171, 36.25 , 34.283, 37.3  , 36.693, 34.358, 34.43 , 34.664,\n",
       "       32.45 , 33.71 , 34.311, 34.119, 32.895, 32.455, 31.138, 28.417,\n",
       "       27.631, 25.761, 25.312, 21.642, 24.185, 21.429, 18.736, 28.676,\n",
       "       27.849, 32.881, 30.271, 29.231, 27.041, 24.974, 24.166, 35.248,\n",
       "       36.702, 33.493, 37.093, 36.025, 36.016, 35.349, 34.009, 36.055,\n",
       "       33.248, 36.673, 25.529, 30.642, 26.549, 24.532, 30.02 , 34.118,\n",
       "       25.912, 26.761, 42.979, 32.321, 28.076, 29.894])"
      ]
     },
     "execution_count": 18,
     "metadata": {},
     "output_type": "execute_result"
    }
   ],
   "source": [
    "model_reload.predict(data[X])"
   ]
  },
  {
   "cell_type": "code",
   "execution_count": null,
   "metadata": {},
   "outputs": [],
   "source": []
  }
 ],
 "metadata": {
  "kernelspec": {
   "display_name": "Python 3",
   "language": "python",
   "name": "python3"
  },
  "language_info": {
   "codemirror_mode": {
    "name": "ipython",
    "version": 3
   },
   "file_extension": ".py",
   "mimetype": "text/x-python",
   "name": "python",
   "nbconvert_exporter": "python",
   "pygments_lexer": "ipython3",
   "version": "3.8.3"
  }
 },
 "nbformat": 4,
 "nbformat_minor": 4
}

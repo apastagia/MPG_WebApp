{
 "cells": [
  {
   "cell_type": "code",
   "execution_count": 1,
   "metadata": {},
   "outputs": [],
   "source": [
    "import pymongo"
   ]
  },
  {
   "cell_type": "code",
   "execution_count": 2,
   "metadata": {},
   "outputs": [],
   "source": [
    "from pymongo import MongoClient\n",
    "#client = MongoClient()"
   ]
  },
  {
   "cell_type": "code",
   "execution_count": 3,
   "metadata": {},
   "outputs": [],
   "source": [
    "client = MongoClient('localhost', 27017)"
   ]
  },
  {
   "cell_type": "code",
   "execution_count": 4,
   "metadata": {
    "scrolled": true
   },
   "outputs": [
    {
     "name": "stderr",
     "output_type": "stream",
     "text": [
      "<ipython-input-4-896185ff0974>:1: DeprecationWarning: database_names is deprecated. Use list_database_names instead.\n",
      "  client.database_names()\n"
     ]
    },
    {
     "data": {
      "text/plain": [
       "['admin', 'config', 'local', 'mpgDataBase']"
      ]
     },
     "execution_count": 4,
     "metadata": {},
     "output_type": "execute_result"
    }
   ],
   "source": [
    "client.database_names()"
   ]
  },
  {
   "cell_type": "code",
   "execution_count": 5,
   "metadata": {},
   "outputs": [],
   "source": [
    "db = client['mpgDataBase']"
   ]
  },
  {
   "cell_type": "code",
   "execution_count": 6,
   "metadata": {},
   "outputs": [],
   "source": [
    "collectionD = db['mpgTable']"
   ]
  },
  {
   "cell_type": "code",
   "execution_count": 7,
   "metadata": {},
   "outputs": [
    {
     "data": {
      "text/plain": [
       "{'cyl': 1, 'disp': 2, 'hp': 3, 'wt': 4, 'acc': 5, 'yr': 6, 'origin': 1}"
      ]
     },
     "execution_count": 7,
     "metadata": {},
     "output_type": "execute_result"
    }
   ],
   "source": [
    "temp={}\n",
    "temp['cyl']=1\n",
    "temp['disp']=2\n",
    "temp['hp']=3\n",
    "temp['wt']=4\n",
    "temp['acc']=5\n",
    "temp['yr']=6\n",
    "temp['origin']=1\n",
    "temp"
   ]
  },
  {
   "cell_type": "code",
   "execution_count": 8,
   "metadata": {},
   "outputs": [],
   "source": [
    "pp=collectionD.insert_one(temp)"
   ]
  },
  {
   "cell_type": "code",
   "execution_count": 9,
   "metadata": {},
   "outputs": [
    {
     "data": {
      "text/plain": [
       "True"
      ]
     },
     "execution_count": 9,
     "metadata": {},
     "output_type": "execute_result"
    }
   ],
   "source": [
    "pp.acknowledged"
   ]
  },
  {
   "cell_type": "code",
   "execution_count": 10,
   "metadata": {},
   "outputs": [
    {
     "data": {
      "text/plain": [
       "ObjectId('608bd04762b4f39945c50bcc')"
      ]
     },
     "execution_count": 10,
     "metadata": {},
     "output_type": "execute_result"
    }
   ],
   "source": [
    "pp.inserted_id"
   ]
  },
  {
   "cell_type": "code",
   "execution_count": 11,
   "metadata": {},
   "outputs": [
    {
     "data": {
      "text/plain": [
       "['mpgTable']"
      ]
     },
     "execution_count": 11,
     "metadata": {},
     "output_type": "execute_result"
    }
   ],
   "source": [
    "db.list_collection_names()"
   ]
  },
  {
   "cell_type": "code",
   "execution_count": 12,
   "metadata": {},
   "outputs": [
    {
     "data": {
      "text/plain": [
       "{'_id': ObjectId('608bcf3e90336ff5ccd80cf8'),\n",
       " 'cyl': 1,\n",
       " 'disp': 2,\n",
       " 'hp': 3,\n",
       " 'wt': 4,\n",
       " 'acc': 5,\n",
       " 'yr': 6,\n",
       " 'origin': 1}"
      ]
     },
     "execution_count": 12,
     "metadata": {},
     "output_type": "execute_result"
    }
   ],
   "source": [
    "collectionD.find_one()"
   ]
  },
  {
   "cell_type": "code",
   "execution_count": 13,
   "metadata": {},
   "outputs": [
    {
     "name": "stdout",
     "output_type": "stream",
     "text": [
      "{'_id': ObjectId('608bcf3e90336ff5ccd80cf8'), 'cyl': 1, 'disp': 2, 'hp': 3, 'wt': 4, 'acc': 5, 'yr': 6, 'origin': 1}\n",
      "{'_id': ObjectId('608bd03790336ff5ccd80cf9'), 'mpg': 15.0, 'cyl': 8.0, 'disp': 383.0, 'hp': 170.0, 'wt': 3563.0, 'acc': 10.0, 'yr': 70.0, 'origin': 1.0, 'car_type': 0.0, 'car_name': 'dodge challenger se'}\n",
      "{'_id': ObjectId('608bd03790336ff5ccd80cfa'), 'mpg': 14.0, 'cyl': 8.0, 'disp': 340.0, 'hp': 160.0, 'wt': 3609.0, 'acc': 8.0, 'yr': 70.0, 'origin': 1.0, 'car_type': 0.0, 'car_name': \"plymouth 'cuda 340\"}\n",
      "{'_id': ObjectId('608bd03790336ff5ccd80cfb'), 'mpg': 15.0, 'cyl': 8.0, 'disp': 400.0, 'hp': 150.0, 'wt': 3761.0, 'acc': 9.5, 'yr': 70.0, 'origin': 1.0, 'car_type': 0.0, 'car_name': 'chevrolet monte carlo'}\n",
      "{'_id': ObjectId('608bd03790336ff5ccd80cfc'), 'mpg': 14.0, 'cyl': 8.0, 'disp': 455.0, 'hp': 225.0, 'wt': 3086.0, 'acc': 10.0, 'yr': 70.0, 'origin': 1.0, 'car_type': 0.0, 'car_name': 'buick estate wagon (sw)'}\n",
      "{'_id': ObjectId('608bd03790336ff5ccd80cfd'), 'mpg': 24.0, 'cyl': 4.0, 'disp': 113.0, 'hp': 95.0, 'wt': 2372.0, 'acc': 15.0, 'yr': 70.0, 'origin': 3.0, 'car_type': 1.0, 'car_name': 'toyota corona mark ii'}\n",
      "{'_id': ObjectId('608bd03790336ff5ccd80cfe'), 'mpg': 22.0, 'cyl': 6.0, 'disp': 198.0, 'hp': 95.0, 'wt': 2833.0, 'acc': 15.5, 'yr': 70.0, 'origin': 1.0, 'car_type': 0.0, 'car_name': 'plymouth duster'}\n",
      "{'_id': ObjectId('608bd03790336ff5ccd80cff'), 'mpg': 18.0, 'cyl': 6.0, 'disp': 199.0, 'hp': 97.0, 'wt': 2774.0, 'acc': 15.5, 'yr': 70.0, 'origin': 1.0, 'car_type': 0.0, 'car_name': 'amc hornet'}\n",
      "{'_id': ObjectId('608bd03790336ff5ccd80d00'), 'mpg': 21.0, 'cyl': 6.0, 'disp': 200.0, 'hp': 85.0, 'wt': 2587.0, 'acc': 16.0, 'yr': 70.0, 'origin': 1.0, 'car_type': 0.0, 'car_name': 'ford maverick'}\n",
      "{'_id': ObjectId('608bd03790336ff5ccd80d01'), 'mpg': 27.0, 'cyl': 4.0, 'disp': 97.0, 'hp': 88.0, 'wt': 2130.0, 'acc': 14.5, 'yr': 70.0, 'origin': 3.0, 'car_type': 1.0, 'car_name': 'datsun pl510'}\n",
      "{'_id': ObjectId('608bd03790336ff5ccd80d02'), 'mpg': 26.0, 'cyl': 4.0, 'disp': 97.0, 'hp': 46.0, 'wt': 1835.0, 'acc': 20.5, 'yr': 70.0, 'origin': 2.0, 'car_type': 1.0, 'car_name': 'volkswagen 1131 deluxe sedan'}\n",
      "{'_id': ObjectId('608bd03790336ff5ccd80d03'), 'mpg': 25.0, 'cyl': 4.0, 'disp': 110.0, 'hp': 87.0, 'wt': 2672.0, 'acc': 17.5, 'yr': 70.0, 'origin': 2.0, 'car_type': 1.0, 'car_name': 'peugeot 504'}\n",
      "{'_id': ObjectId('608bd03790336ff5ccd80d04'), 'mpg': 24.0, 'cyl': 4.0, 'disp': 107.0, 'hp': 90.0, 'wt': 2430.0, 'acc': 14.5, 'yr': 70.0, 'origin': 2.0, 'car_type': 1.0, 'car_name': 'audi 100 ls'}\n",
      "{'_id': ObjectId('608bd03790336ff5ccd80d05'), 'mpg': 25.0, 'cyl': 4.0, 'disp': 104.0, 'hp': 95.0, 'wt': 2375.0, 'acc': 17.5, 'yr': 70.0, 'origin': 2.0, 'car_type': 1.0, 'car_name': 'saab 99e'}\n",
      "{'_id': ObjectId('608bd03790336ff5ccd80d06'), 'mpg': 26.0, 'cyl': 4.0, 'disp': 121.0, 'hp': 113.0, 'wt': 2234.0, 'acc': 12.5, 'yr': 70.0, 'origin': 2.0, 'car_type': 1.0, 'car_name': 'bmw 2002'}\n",
      "{'_id': ObjectId('608bd03790336ff5ccd80d07'), 'mpg': 21.0, 'cyl': 6.0, 'disp': 199.0, 'hp': 90.0, 'wt': 2648.0, 'acc': 15.0, 'yr': 70.0, 'origin': 1.0, 'car_type': 0.0, 'car_name': 'amc gremlin'}\n",
      "{'_id': ObjectId('608bd03790336ff5ccd80d08'), 'mpg': 10.0, 'cyl': 8.0, 'disp': 360.0, 'hp': 215.0, 'wt': 4615.0, 'acc': 14.0, 'yr': 70.0, 'origin': 1.0, 'car_type': 0.0, 'car_name': 'ford f250'}\n",
      "{'_id': ObjectId('608bd03790336ff5ccd80d09'), 'mpg': 10.0, 'cyl': 8.0, 'disp': 307.0, 'hp': 200.0, 'wt': 4376.0, 'acc': 15.0, 'yr': 70.0, 'origin': 1.0, 'car_type': 0.0, 'car_name': 'chevy c20'}\n",
      "{'_id': ObjectId('608bd03790336ff5ccd80d0a'), 'mpg': 11.0, 'cyl': 8.0, 'disp': 318.0, 'hp': 210.0, 'wt': 4382.0, 'acc': 13.5, 'yr': 70.0, 'origin': 1.0, 'car_type': 0.0, 'car_name': 'dodge d200'}\n",
      "{'_id': ObjectId('608bd03790336ff5ccd80d0b'), 'mpg': 9.0, 'cyl': 8.0, 'disp': 304.0, 'hp': 193.0, 'wt': 4732.0, 'acc': 18.5, 'yr': 70.0, 'origin': 1.0, 'car_type': 0.0, 'car_name': 'hi 1200d'}\n",
      "{'_id': ObjectId('608bd03790336ff5ccd80d0c'), 'mpg': 27.0, 'cyl': 4.0, 'disp': 97.0, 'hp': 88.0, 'wt': 2130.0, 'acc': 14.5, 'yr': 71.0, 'origin': 3.0, 'car_type': 1.0, 'car_name': 'datsun pl510'}\n",
      "{'_id': ObjectId('608bd03790336ff5ccd80d0d'), 'mpg': 28.0, 'cyl': 4.0, 'disp': 140.0, 'hp': 90.0, 'wt': 2264.0, 'acc': 15.5, 'yr': 71.0, 'origin': 1.0, 'car_type': 1.0, 'car_name': 'chevrolet vega 2300'}\n",
      "{'_id': ObjectId('608bd03790336ff5ccd80d0e'), 'mpg': 25.0, 'cyl': 4.0, 'disp': 113.0, 'hp': 95.0, 'wt': 2228.0, 'acc': 14.0, 'yr': 71.0, 'origin': 3.0, 'car_type': 1.0, 'car_name': 'toyota corona'}\n",
      "{'_id': ObjectId('608bd03790336ff5ccd80d0f'), 'mpg': 25.0, 'cyl': 4.0, 'disp': 98.0, 'hp': '?', 'wt': 2046.0, 'acc': 19.0, 'yr': 71.0, 'origin': 1.0, 'car_type': 1.0, 'car_name': 'ford pinto'}\n",
      "{'_id': ObjectId('608bd03790336ff5ccd80d10'), 'mpg': 19.0, 'cyl': 6.0, 'disp': 232.0, 'hp': 100.0, 'wt': 2634.0, 'acc': 13.0, 'yr': 71.0, 'origin': 1.0, 'car_type': 0.0, 'car_name': 'amc gremlin'}\n",
      "{'_id': ObjectId('608bd03790336ff5ccd80d11'), 'mpg': 16.0, 'cyl': 6.0, 'disp': 225.0, 'hp': 105.0, 'wt': 3439.0, 'acc': 15.5, 'yr': 71.0, 'origin': 1.0, 'car_type': 0.0, 'car_name': 'plymouth satellite custom'}\n",
      "{'_id': ObjectId('608bd03790336ff5ccd80d12'), 'mpg': 17.0, 'cyl': 6.0, 'disp': 250.0, 'hp': 100.0, 'wt': 3329.0, 'acc': 15.5, 'yr': 71.0, 'origin': 1.0, 'car_type': 0.0, 'car_name': 'chevrolet chevelle malibu'}\n",
      "{'_id': ObjectId('608bd03790336ff5ccd80d13'), 'mpg': 19.0, 'cyl': 6.0, 'disp': 250.0, 'hp': 88.0, 'wt': 3302.0, 'acc': 15.5, 'yr': 71.0, 'origin': 1.0, 'car_type': 0.0, 'car_name': 'ford torino 500'}\n",
      "{'_id': ObjectId('608bd03790336ff5ccd80d14'), 'mpg': 18.0, 'cyl': 6.0, 'disp': 232.0, 'hp': 100.0, 'wt': 3288.0, 'acc': 15.5, 'yr': 71.0, 'origin': 1.0, 'car_type': 0.0, 'car_name': 'amc matador'}\n",
      "{'_id': ObjectId('608bd03790336ff5ccd80d15'), 'mpg': 14.0, 'cyl': 8.0, 'disp': 350.0, 'hp': 165.0, 'wt': 4209.0, 'acc': 12.0, 'yr': 71.0, 'origin': 1.0, 'car_type': 0.0, 'car_name': 'chevrolet impala'}\n",
      "{'_id': ObjectId('608bd03790336ff5ccd80d16'), 'mpg': 14.0, 'cyl': 8.0, 'disp': 400.0, 'hp': 175.0, 'wt': 4464.0, 'acc': 11.5, 'yr': 71.0, 'origin': 1.0, 'car_type': 0.0, 'car_name': 'pontiac catalina brougham'}\n",
      "{'_id': ObjectId('608bd03790336ff5ccd80d17'), 'mpg': 14.0, 'cyl': 8.0, 'disp': 351.0, 'hp': 153.0, 'wt': 4154.0, 'acc': 13.5, 'yr': 71.0, 'origin': 1.0, 'car_type': 0.0, 'car_name': 'ford galaxie 500'}\n",
      "{'_id': ObjectId('608bd03790336ff5ccd80d18'), 'mpg': 14.0, 'cyl': 8.0, 'disp': 318.0, 'hp': 150.0, 'wt': 4096.0, 'acc': 13.0, 'yr': 71.0, 'origin': 1.0, 'car_type': 0.0, 'car_name': 'plymouth fury iii'}\n",
      "{'_id': ObjectId('608bd03790336ff5ccd80d19'), 'mpg': 12.0, 'cyl': 8.0, 'disp': 383.0, 'hp': 180.0, 'wt': 4955.0, 'acc': 11.5, 'yr': 71.0, 'origin': 1.0, 'car_type': 0.0, 'car_name': 'dodge monaco (sw)'}\n",
      "{'_id': ObjectId('608bd03790336ff5ccd80d1a'), 'mpg': 13.0, 'cyl': 8.0, 'disp': 400.0, 'hp': 170.0, 'wt': 4746.0, 'acc': 12.0, 'yr': 71.0, 'origin': 1.0, 'car_type': 0.0, 'car_name': 'ford country squire (sw)'}\n",
      "{'_id': ObjectId('608bd03790336ff5ccd80d1b'), 'mpg': 13.0, 'cyl': 8.0, 'disp': 400.0, 'hp': 175.0, 'wt': 5140.0, 'acc': 12.0, 'yr': 71.0, 'origin': 1.0, 'car_type': 0.0, 'car_name': 'pontiac safari (sw)'}\n",
      "{'_id': ObjectId('608bd03790336ff5ccd80d1c'), 'mpg': 18.0, 'cyl': 6.0, 'disp': 258.0, 'hp': 110.0, 'wt': 2962.0, 'acc': 13.5, 'yr': 71.0, 'origin': 1.0, 'car_type': 0.0, 'car_name': 'amc hornet sportabout (sw)'}\n",
      "{'_id': ObjectId('608bd03790336ff5ccd80d1d'), 'mpg': 22.0, 'cyl': 4.0, 'disp': 140.0, 'hp': 72.0, 'wt': 2408.0, 'acc': 19.0, 'yr': 71.0, 'origin': 1.0, 'car_type': 1.0, 'car_name': 'chevrolet vega (sw)'}\n",
      "{'_id': ObjectId('608bd03790336ff5ccd80d1e'), 'mpg': 19.0, 'cyl': 6.0, 'disp': 250.0, 'hp': 100.0, 'wt': 3282.0, 'acc': 15.0, 'yr': 71.0, 'origin': 1.0, 'car_type': 0.0, 'car_name': 'pontiac firebird'}\n",
      "{'_id': ObjectId('608bd03790336ff5ccd80d1f'), 'mpg': 18.0, 'cyl': 6.0, 'disp': 250.0, 'hp': 88.0, 'wt': 3139.0, 'acc': 14.5, 'yr': 71.0, 'origin': 1.0, 'car_type': 0.0, 'car_name': 'ford mustang'}\n",
      "{'_id': ObjectId('608bd03790336ff5ccd80d20'), 'mpg': 23.0, 'cyl': 4.0, 'disp': 122.0, 'hp': 86.0, 'wt': 2220.0, 'acc': 14.0, 'yr': 71.0, 'origin': 1.0, 'car_type': 1.0, 'car_name': 'mercury capri 2000'}\n",
      "{'_id': ObjectId('608bd03790336ff5ccd80d21'), 'mpg': 28.0, 'cyl': 4.0, 'disp': 116.0, 'hp': 90.0, 'wt': 2123.0, 'acc': 14.0, 'yr': 71.0, 'origin': 2.0, 'car_type': 1.0, 'car_name': 'opel 1900'}\n",
      "{'_id': ObjectId('608bd03790336ff5ccd80d22'), 'mpg': 30.0, 'cyl': 4.0, 'disp': 79.0, 'hp': 70.0, 'wt': 2074.0, 'acc': 19.5, 'yr': 71.0, 'origin': 2.0, 'car_type': 1.0, 'car_name': 'peugeot 304'}\n",
      "{'_id': ObjectId('608bd03790336ff5ccd80d23'), 'mpg': 30.0, 'cyl': 4.0, 'disp': 88.0, 'hp': 76.0, 'wt': 2065.0, 'acc': 14.5, 'yr': 71.0, 'origin': 2.0, 'car_type': 1.0, 'car_name': 'fiat 124b'}\n",
      "{'_id': ObjectId('608bd03790336ff5ccd80d24'), 'mpg': 31.0, 'cyl': 4.0, 'disp': 71.0, 'hp': 65.0, 'wt': 1773.0, 'acc': 19.0, 'yr': 71.0, 'origin': 3.0, 'car_type': 1.0, 'car_name': 'toyota corolla 1200'}\n",
      "{'_id': ObjectId('608bd03790336ff5ccd80d25'), 'mpg': 35.0, 'cyl': 4.0, 'disp': 72.0, 'hp': 69.0, 'wt': 1613.0, 'acc': 18.0, 'yr': 71.0, 'origin': 3.0, 'car_type': 1.0, 'car_name': 'datsun 1200'}\n",
      "{'_id': ObjectId('608bd03790336ff5ccd80d26'), 'mpg': 27.0, 'cyl': 4.0, 'disp': 97.0, 'hp': 60.0, 'wt': 1834.0, 'acc': 19.0, 'yr': 71.0, 'origin': 2.0, 'car_type': 1.0, 'car_name': 'volkswagen model 111'}\n",
      "{'_id': ObjectId('608bd03790336ff5ccd80d27'), 'mpg': 26.0, 'cyl': 4.0, 'disp': 91.0, 'hp': 70.0, 'wt': 1955.0, 'acc': 20.5, 'yr': 71.0, 'origin': 1.0, 'car_type': 1.0, 'car_name': 'plymouth cricket'}\n",
      "{'_id': ObjectId('608bd03790336ff5ccd80d28'), 'mpg': 24.0, 'cyl': 4.0, 'disp': 113.0, 'hp': 95.0, 'wt': 2278.0, 'acc': 15.5, 'yr': 72.0, 'origin': 3.0, 'car_type': 1.0, 'car_name': 'toyota corona hardtop'}\n",
      "{'_id': ObjectId('608bd03790336ff5ccd80d29'), 'mpg': 25.0, 'cyl': 4.0, 'disp': 97.5, 'hp': 80.0, 'wt': 2126.0, 'acc': 17.0, 'yr': 72.0, 'origin': 1.0, 'car_type': 1.0, 'car_name': 'dodge colt hardtop'}\n",
      "{'_id': ObjectId('608bd03790336ff5ccd80d2a'), 'mpg': 23.0, 'cyl': 4.0, 'disp': 97.0, 'hp': 54.0, 'wt': 2254.0, 'acc': 23.5, 'yr': 72.0, 'origin': 2.0, 'car_type': 1.0, 'car_name': 'volkswagen type 3'}\n",
      "{'_id': ObjectId('608bd03790336ff5ccd80d2b'), 'mpg': 20.0, 'cyl': 4.0, 'disp': 140.0, 'hp': 90.0, 'wt': 2408.0, 'acc': 19.5, 'yr': 72.0, 'origin': 1.0, 'car_type': 1.0, 'car_name': 'chevrolet vega'}\n",
      "{'_id': ObjectId('608bd03790336ff5ccd80d2c'), 'mpg': 21.0, 'cyl': 4.0, 'disp': 122.0, 'hp': 86.0, 'wt': 2226.0, 'acc': 16.5, 'yr': 72.0, 'origin': 1.0, 'car_type': 1.0, 'car_name': 'ford pinto runabout'}\n",
      "{'_id': ObjectId('608bd03790336ff5ccd80d2d'), 'mpg': 13.0, 'cyl': 8.0, 'disp': 350.0, 'hp': 165.0, 'wt': 4274.0, 'acc': 12.0, 'yr': 72.0, 'origin': 1.0, 'car_type': 0.0, 'car_name': 'chevrolet impala'}\n",
      "{'_id': ObjectId('608bd03790336ff5ccd80d2e'), 'mpg': 14.0, 'cyl': 8.0, 'disp': 400.0, 'hp': 175.0, 'wt': 4385.0, 'acc': 12.0, 'yr': 72.0, 'origin': 1.0, 'car_type': 0.0, 'car_name': 'pontiac catalina'}\n",
      "{'_id': ObjectId('608bd03790336ff5ccd80d2f'), 'mpg': 15.0, 'cyl': 8.0, 'disp': 318.0, 'hp': 150.0, 'wt': 4135.0, 'acc': 13.5, 'yr': 72.0, 'origin': 1.0, 'car_type': 0.0, 'car_name': 'plymouth fury iii'}\n",
      "{'_id': ObjectId('608bd03790336ff5ccd80d30'), 'mpg': 14.0, 'cyl': 8.0, 'disp': 351.0, 'hp': 153.0, 'wt': 4129.0, 'acc': 13.0, 'yr': 72.0, 'origin': 1.0, 'car_type': 0.0, 'car_name': 'ford galaxie 500'}\n",
      "{'_id': ObjectId('608bd03790336ff5ccd80d31'), 'mpg': 17.0, 'cyl': 8.0, 'disp': 304.0, 'hp': 150.0, 'wt': 3672.0, 'acc': 11.5, 'yr': 72.0, 'origin': 1.0, 'car_type': 0.0, 'car_name': 'amc ambassador sst'}\n",
      "{'_id': ObjectId('608bd03790336ff5ccd80d32'), 'mpg': 11.0, 'cyl': 8.0, 'disp': 429.0, 'hp': 208.0, 'wt': 4633.0, 'acc': 11.0, 'yr': 72.0, 'origin': 1.0, 'car_type': 0.0, 'car_name': 'mercury marquis'}\n",
      "{'_id': ObjectId('608bd03790336ff5ccd80d33'), 'mpg': 13.0, 'cyl': 8.0, 'disp': 350.0, 'hp': 155.0, 'wt': 4502.0, 'acc': 13.5, 'yr': 72.0, 'origin': 1.0, 'car_type': 0.0, 'car_name': 'buick lesabre custom'}\n",
      "{'_id': ObjectId('608bd03790336ff5ccd80d34'), 'mpg': 12.0, 'cyl': 8.0, 'disp': 350.0, 'hp': 160.0, 'wt': 4456.0, 'acc': 13.5, 'yr': 72.0, 'origin': 1.0, 'car_type': 0.0, 'car_name': 'oldsmobile delta 88 royale'}\n",
      "{'_id': ObjectId('608bd03790336ff5ccd80d35'), 'mpg': 13.0, 'cyl': 8.0, 'disp': 400.0, 'hp': 190.0, 'wt': 4422.0, 'acc': 12.5, 'yr': 72.0, 'origin': 1.0, 'car_type': 0.0, 'car_name': 'chrysler newport royal'}\n",
      "{'_id': ObjectId('608bd03790336ff5ccd80d36'), 'mpg': 19.0, 'cyl': 3.0, 'disp': 70.0, 'hp': 97.0, 'wt': 2330.0, 'acc': 13.5, 'yr': 72.0, 'origin': 3.0, 'car_type': 1.0, 'car_name': 'mazda rx2 coupe'}\n",
      "{'_id': ObjectId('608bd03790336ff5ccd80d37'), 'mpg': 15.0, 'cyl': 8.0, 'disp': 304.0, 'hp': 150.0, 'wt': 3892.0, 'acc': 12.5, 'yr': 72.0, 'origin': 1.0, 'car_type': 0.0, 'car_name': 'amc matador (sw)'}\n",
      "{'_id': ObjectId('608bd03790336ff5ccd80d38'), 'mpg': 13.0, 'cyl': 8.0, 'disp': 307.0, 'hp': 130.0, 'wt': 4098.0, 'acc': 14.0, 'yr': 72.0, 'origin': 1.0, 'car_type': 0.0, 'car_name': 'chevrolet chevelle concours (sw)'}\n",
      "{'_id': ObjectId('608bd03790336ff5ccd80d39'), 'mpg': 13.0, 'cyl': 8.0, 'disp': 302.0, 'hp': 140.0, 'wt': 4294.0, 'acc': 16.0, 'yr': 72.0, 'origin': 1.0, 'car_type': 0.0, 'car_name': 'ford gran torino (sw)'}\n",
      "{'_id': ObjectId('608bd03790336ff5ccd80d3a'), 'mpg': 14.0, 'cyl': 8.0, 'disp': 318.0, 'hp': 150.0, 'wt': 4077.0, 'acc': 14.0, 'yr': 72.0, 'origin': 1.0, 'car_type': 0.0, 'car_name': 'plymouth satellite custom (sw)'}\n",
      "{'_id': ObjectId('608bd03790336ff5ccd80d3b'), 'mpg': 18.0, 'cyl': 4.0, 'disp': 121.0, 'hp': 112.0, 'wt': 2933.0, 'acc': 14.5, 'yr': 72.0, 'origin': 2.0, 'car_type': 1.0, 'car_name': 'volvo 145e (sw)'}\n",
      "{'_id': ObjectId('608bd03790336ff5ccd80d3c'), 'mpg': 22.0, 'cyl': 4.0, 'disp': 121.0, 'hp': 76.0, 'wt': 2511.0, 'acc': 18.0, 'yr': 72.0, 'origin': 2.0, 'car_type': 1.0, 'car_name': 'volkswagen 411 (sw)'}\n",
      "{'_id': ObjectId('608bd03790336ff5ccd80d3d'), 'mpg': 21.0, 'cyl': 4.0, 'disp': 120.0, 'hp': 87.0, 'wt': 2979.0, 'acc': 19.5, 'yr': 72.0, 'origin': 2.0, 'car_type': 1.0, 'car_name': 'peugeot 504 (sw)'}\n",
      "{'_id': ObjectId('608bd03790336ff5ccd80d3e'), 'mpg': 26.0, 'cyl': 4.0, 'disp': 96.0, 'hp': 69.0, 'wt': 2189.0, 'acc': 18.0, 'yr': 72.0, 'origin': 2.0, 'car_type': 1.0, 'car_name': 'renault 12 (sw)'}\n",
      "{'_id': ObjectId('608bd03790336ff5ccd80d3f'), 'mpg': 22.0, 'cyl': 4.0, 'disp': 122.0, 'hp': 86.0, 'wt': 2395.0, 'acc': 16.0, 'yr': 72.0, 'origin': 1.0, 'car_type': 1.0, 'car_name': 'ford pinto (sw)'}\n",
      "{'_id': ObjectId('608bd03790336ff5ccd80d40'), 'mpg': 28.0, 'cyl': 4.0, 'disp': 97.0, 'hp': 92.0, 'wt': 2288.0, 'acc': 17.0, 'yr': 72.0, 'origin': 3.0, 'car_type': 1.0, 'car_name': 'datsun 510 (sw)'}\n",
      "{'_id': ObjectId('608bd03790336ff5ccd80d41'), 'mpg': 23.0, 'cyl': 4.0, 'disp': 120.0, 'hp': 97.0, 'wt': 2506.0, 'acc': 14.5, 'yr': 72.0, 'origin': 3.0, 'car_type': 1.0, 'car_name': 'toyouta corona mark ii (sw)'}\n",
      "{'_id': ObjectId('608bd03790336ff5ccd80d42'), 'mpg': 28.0, 'cyl': 4.0, 'disp': 98.0, 'hp': 80.0, 'wt': 2164.0, 'acc': 15.0, 'yr': 72.0, 'origin': 1.0, 'car_type': 1.0, 'car_name': 'dodge colt (sw)'}\n",
      "{'_id': ObjectId('608bd03790336ff5ccd80d43'), 'mpg': 27.0, 'cyl': 4.0, 'disp': 97.0, 'hp': 88.0, 'wt': 2100.0, 'acc': 16.5, 'yr': 72.0, 'origin': 3.0, 'car_type': 1.0, 'car_name': 'toyota corolla 1600 (sw)'}\n",
      "{'_id': ObjectId('608bd03790336ff5ccd80d44'), 'mpg': 13.0, 'cyl': 8.0, 'disp': 350.0, 'hp': 175.0, 'wt': 4100.0, 'acc': 13.0, 'yr': 73.0, 'origin': 1.0, 'car_type': 0.0, 'car_name': 'buick century 350'}\n",
      "{'_id': ObjectId('608bd03790336ff5ccd80d45'), 'mpg': 14.0, 'cyl': 8.0, 'disp': 304.0, 'hp': 150.0, 'wt': 3672.0, 'acc': 11.5, 'yr': 73.0, 'origin': 1.0, 'car_type': 0.0, 'car_name': 'amc matador'}\n",
      "{'_id': ObjectId('608bd03790336ff5ccd80d46'), 'mpg': 13.0, 'cyl': 8.0, 'disp': 350.0, 'hp': 145.0, 'wt': 3988.0, 'acc': 13.0, 'yr': 73.0, 'origin': 1.0, 'car_type': 0.0, 'car_name': 'chevrolet malibu'}\n",
      "{'_id': ObjectId('608bd03790336ff5ccd80d47'), 'mpg': 14.0, 'cyl': 8.0, 'disp': 302.0, 'hp': 137.0, 'wt': 4042.0, 'acc': 14.5, 'yr': 73.0, 'origin': 1.0, 'car_type': 0.0, 'car_name': 'ford gran torino'}\n",
      "{'_id': ObjectId('608bd03790336ff5ccd80d48'), 'mpg': 15.0, 'cyl': 8.0, 'disp': 318.0, 'hp': 150.0, 'wt': 3777.0, 'acc': 12.5, 'yr': 73.0, 'origin': 1.0, 'car_type': 0.0, 'car_name': 'dodge coronet custom'}\n",
      "{'_id': ObjectId('608bd03790336ff5ccd80d49'), 'mpg': 12.0, 'cyl': 8.0, 'disp': 429.0, 'hp': 198.0, 'wt': 4952.0, 'acc': 11.5, 'yr': 73.0, 'origin': 1.0, 'car_type': 0.0, 'car_name': 'mercury marquis brougham'}\n",
      "{'_id': ObjectId('608bd03790336ff5ccd80d4a'), 'mpg': 13.0, 'cyl': 8.0, 'disp': 400.0, 'hp': 150.0, 'wt': 4464.0, 'acc': 12.0, 'yr': 73.0, 'origin': 1.0, 'car_type': 0.0, 'car_name': 'chevrolet caprice classic'}\n",
      "{'_id': ObjectId('608bd03790336ff5ccd80d4b'), 'mpg': 13.0, 'cyl': 8.0, 'disp': 351.0, 'hp': 158.0, 'wt': 4363.0, 'acc': 13.0, 'yr': 73.0, 'origin': 1.0, 'car_type': 0.0, 'car_name': 'ford ltd'}\n",
      "{'_id': ObjectId('608bd03790336ff5ccd80d4c'), 'mpg': 14.0, 'cyl': 8.0, 'disp': 318.0, 'hp': 150.0, 'wt': 4237.0, 'acc': 14.5, 'yr': 73.0, 'origin': 1.0, 'car_type': 0.0, 'car_name': 'plymouth fury gran sedan'}\n",
      "{'_id': ObjectId('608bd03790336ff5ccd80d4d'), 'mpg': 13.0, 'cyl': 8.0, 'disp': 440.0, 'hp': 215.0, 'wt': 4735.0, 'acc': 11.0, 'yr': 73.0, 'origin': 1.0, 'car_type': 0.0, 'car_name': 'chrysler new yorker brougham'}\n",
      "{'_id': ObjectId('608bd03790336ff5ccd80d4e'), 'mpg': 12.0, 'cyl': 8.0, 'disp': 455.0, 'hp': 225.0, 'wt': 4951.0, 'acc': 11.0, 'yr': 73.0, 'origin': 1.0, 'car_type': 0.0, 'car_name': 'buick electra 225 custom'}\n",
      "{'_id': ObjectId('608bd03790336ff5ccd80d4f'), 'mpg': 13.0, 'cyl': 8.0, 'disp': 360.0, 'hp': 175.0, 'wt': 3821.0, 'acc': 11.0, 'yr': 73.0, 'origin': 1.0, 'car_type': 0.0, 'car_name': 'amc ambassador brougham'}\n",
      "{'_id': ObjectId('608bd03790336ff5ccd80d50'), 'mpg': 18.0, 'cyl': 6.0, 'disp': 225.0, 'hp': 105.0, 'wt': 3121.0, 'acc': 16.5, 'yr': 73.0, 'origin': 1.0, 'car_type': 0.0, 'car_name': 'plymouth valiant'}\n",
      "{'_id': ObjectId('608bd03790336ff5ccd80d51'), 'mpg': 16.0, 'cyl': 6.0, 'disp': 250.0, 'hp': 100.0, 'wt': 3278.0, 'acc': 18.0, 'yr': 73.0, 'origin': 1.0, 'car_type': 0.0, 'car_name': 'chevrolet nova custom'}\n",
      "{'_id': ObjectId('608bd03790336ff5ccd80d52'), 'mpg': 18.0, 'cyl': 6.0, 'disp': 232.0, 'hp': 100.0, 'wt': 2945.0, 'acc': 16.0, 'yr': 73.0, 'origin': 1.0, 'car_type': 0.0, 'car_name': 'amc hornet'}\n",
      "{'_id': ObjectId('608bd04762b4f39945c50bcc'), 'cyl': 1, 'disp': 2, 'hp': 3, 'wt': 4, 'acc': 5, 'yr': 6, 'origin': 1}\n"
     ]
    }
   ],
   "source": [
    "for i in collectionD.find():\n",
    "    print (i)"
   ]
  },
  {
   "cell_type": "code",
   "execution_count": 14,
   "metadata": {},
   "outputs": [
    {
     "name": "stderr",
     "output_type": "stream",
     "text": [
      "<ipython-input-14-6b454878a08a>:1: DeprecationWarning: count is deprecated. Use Collection.count_documents instead.\n",
      "  collectionD.find().count()\n"
     ]
    },
    {
     "data": {
      "text/plain": [
       "92"
      ]
     },
     "execution_count": 14,
     "metadata": {},
     "output_type": "execute_result"
    }
   ],
   "source": [
    "collectionD.find().count()"
   ]
  },
  {
   "cell_type": "code",
   "execution_count": 15,
   "metadata": {},
   "outputs": [],
   "source": [
    "import pandas as pd"
   ]
  },
  {
   "cell_type": "code",
   "execution_count": 16,
   "metadata": {},
   "outputs": [],
   "source": [
    "data=pd.read_csv('car-mpg.csv')"
   ]
  },
  {
   "cell_type": "code",
   "execution_count": 17,
   "metadata": {},
   "outputs": [],
   "source": [
    "for i in range(10,100):\n",
    "    tempData=dict(data.iloc[i])\n",
    "    for j in tempData:\n",
    "        try:\n",
    "            tempData[j]=float(tempData[j])\n",
    "        except:\n",
    "            pass\n",
    "    collectionD.insert_one(tempData)"
   ]
  },
  {
   "cell_type": "code",
   "execution_count": 18,
   "metadata": {},
   "outputs": [
    {
     "name": "stderr",
     "output_type": "stream",
     "text": [
      "<ipython-input-18-6b454878a08a>:1: DeprecationWarning: count is deprecated. Use Collection.count_documents instead.\n",
      "  collectionD.find().count()\n"
     ]
    },
    {
     "data": {
      "text/plain": [
       "182"
      ]
     },
     "execution_count": 18,
     "metadata": {},
     "output_type": "execute_result"
    }
   ],
   "source": [
    "collectionD.find().count()"
   ]
  },
  {
   "cell_type": "code",
   "execution_count": null,
   "metadata": {},
   "outputs": [],
   "source": []
  },
  {
   "cell_type": "code",
   "execution_count": null,
   "metadata": {},
   "outputs": [],
   "source": []
  },
  {
   "cell_type": "code",
   "execution_count": null,
   "metadata": {},
   "outputs": [],
   "source": []
  }
 ],
 "metadata": {
  "kernelspec": {
   "display_name": "Python 3",
   "language": "python",
   "name": "python3"
  },
  "language_info": {
   "codemirror_mode": {
    "name": "ipython",
    "version": 3
   },
   "file_extension": ".py",
   "mimetype": "text/x-python",
   "name": "python",
   "nbconvert_exporter": "python",
   "pygments_lexer": "ipython3",
   "version": "3.8.3"
  }
 },
 "nbformat": 4,
 "nbformat_minor": 4
}
